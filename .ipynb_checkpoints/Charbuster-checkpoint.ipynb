{
 "cells": [
  {
   "cell_type": "markdown",
   "metadata": {},
   "source": [
    "<h1> Importing dependencies </h1>"
   ]
  },
  {
   "cell_type": "code",
   "execution_count": 1,
   "metadata": {},
   "outputs": [
    {
     "name": "stderr",
     "output_type": "stream",
     "text": [
      "C:\\ProgramData\\Anaconda3\\lib\\site-packages\\tensorflow\\python\\framework\\dtypes.py:516: FutureWarning: Passing (type, 1) or '1type' as a synonym of type is deprecated; in a future version of numpy, it will be understood as (type, (1,)) / '(1,)type'.\n",
      "  _np_qint8 = np.dtype([(\"qint8\", np.int8, 1)])\n",
      "C:\\ProgramData\\Anaconda3\\lib\\site-packages\\tensorflow\\python\\framework\\dtypes.py:517: FutureWarning: Passing (type, 1) or '1type' as a synonym of type is deprecated; in a future version of numpy, it will be understood as (type, (1,)) / '(1,)type'.\n",
      "  _np_quint8 = np.dtype([(\"quint8\", np.uint8, 1)])\n",
      "C:\\ProgramData\\Anaconda3\\lib\\site-packages\\tensorflow\\python\\framework\\dtypes.py:518: FutureWarning: Passing (type, 1) or '1type' as a synonym of type is deprecated; in a future version of numpy, it will be understood as (type, (1,)) / '(1,)type'.\n",
      "  _np_qint16 = np.dtype([(\"qint16\", np.int16, 1)])\n",
      "C:\\ProgramData\\Anaconda3\\lib\\site-packages\\tensorflow\\python\\framework\\dtypes.py:519: FutureWarning: Passing (type, 1) or '1type' as a synonym of type is deprecated; in a future version of numpy, it will be understood as (type, (1,)) / '(1,)type'.\n",
      "  _np_quint16 = np.dtype([(\"quint16\", np.uint16, 1)])\n",
      "C:\\ProgramData\\Anaconda3\\lib\\site-packages\\tensorflow\\python\\framework\\dtypes.py:520: FutureWarning: Passing (type, 1) or '1type' as a synonym of type is deprecated; in a future version of numpy, it will be understood as (type, (1,)) / '(1,)type'.\n",
      "  _np_qint32 = np.dtype([(\"qint32\", np.int32, 1)])\n",
      "C:\\ProgramData\\Anaconda3\\lib\\site-packages\\tensorflow\\python\\framework\\dtypes.py:525: FutureWarning: Passing (type, 1) or '1type' as a synonym of type is deprecated; in a future version of numpy, it will be understood as (type, (1,)) / '(1,)type'.\n",
      "  np_resource = np.dtype([(\"resource\", np.ubyte, 1)])\n",
      "C:\\ProgramData\\Anaconda3\\lib\\site-packages\\tensorboard\\compat\\tensorflow_stub\\dtypes.py:541: FutureWarning: Passing (type, 1) or '1type' as a synonym of type is deprecated; in a future version of numpy, it will be understood as (type, (1,)) / '(1,)type'.\n",
      "  _np_qint8 = np.dtype([(\"qint8\", np.int8, 1)])\n",
      "C:\\ProgramData\\Anaconda3\\lib\\site-packages\\tensorboard\\compat\\tensorflow_stub\\dtypes.py:542: FutureWarning: Passing (type, 1) or '1type' as a synonym of type is deprecated; in a future version of numpy, it will be understood as (type, (1,)) / '(1,)type'.\n",
      "  _np_quint8 = np.dtype([(\"quint8\", np.uint8, 1)])\n",
      "C:\\ProgramData\\Anaconda3\\lib\\site-packages\\tensorboard\\compat\\tensorflow_stub\\dtypes.py:543: FutureWarning: Passing (type, 1) or '1type' as a synonym of type is deprecated; in a future version of numpy, it will be understood as (type, (1,)) / '(1,)type'.\n",
      "  _np_qint16 = np.dtype([(\"qint16\", np.int16, 1)])\n",
      "C:\\ProgramData\\Anaconda3\\lib\\site-packages\\tensorboard\\compat\\tensorflow_stub\\dtypes.py:544: FutureWarning: Passing (type, 1) or '1type' as a synonym of type is deprecated; in a future version of numpy, it will be understood as (type, (1,)) / '(1,)type'.\n",
      "  _np_quint16 = np.dtype([(\"quint16\", np.uint16, 1)])\n",
      "C:\\ProgramData\\Anaconda3\\lib\\site-packages\\tensorboard\\compat\\tensorflow_stub\\dtypes.py:545: FutureWarning: Passing (type, 1) or '1type' as a synonym of type is deprecated; in a future version of numpy, it will be understood as (type, (1,)) / '(1,)type'.\n",
      "  _np_qint32 = np.dtype([(\"qint32\", np.int32, 1)])\n",
      "C:\\ProgramData\\Anaconda3\\lib\\site-packages\\tensorboard\\compat\\tensorflow_stub\\dtypes.py:550: FutureWarning: Passing (type, 1) or '1type' as a synonym of type is deprecated; in a future version of numpy, it will be understood as (type, (1,)) / '(1,)type'.\n",
      "  np_resource = np.dtype([(\"resource\", np.ubyte, 1)])\n",
      "Using TensorFlow backend.\n"
     ]
    }
   ],
   "source": [
    "import matplotlib.pyplot as plt\n",
    "import numpy as np\n",
    "import pandas as pd\n",
    "\n",
    "from sklearn.model_selection import StratifiedKFold\n",
    "from sklearn.metrics import mean_squared_error\n",
    "\n",
    "import tensorflow as tf\n",
    "from keras.layers import *\n",
    "from keras.models import Model, Sequential, load_model\n",
    "from keras.optimizers import *\n",
    "from keras.callbacks import ModelCheckpoint\n",
    "from keras.activations import *\n",
    "from keras.layers.advanced_activations import *\n",
    "from keras import regularizers"
   ]
  },
  {
   "cell_type": "code",
   "execution_count": 2,
   "metadata": {},
   "outputs": [
    {
     "data": {
      "text/html": [
       "<div>\n",
       "<style scoped>\n",
       "    .dataframe tbody tr th:only-of-type {\n",
       "        vertical-align: middle;\n",
       "    }\n",
       "\n",
       "    .dataframe tbody tr th {\n",
       "        vertical-align: top;\n",
       "    }\n",
       "\n",
       "    .dataframe thead th {\n",
       "        text-align: right;\n",
       "    }\n",
       "</style>\n",
       "<table border=\"1\" class=\"dataframe\">\n",
       "  <thead>\n",
       "    <tr style=\"text-align: right;\">\n",
       "      <th></th>\n",
       "      <th>Unique_ID</th>\n",
       "      <th>Name</th>\n",
       "      <th>Genre</th>\n",
       "      <th>Country</th>\n",
       "      <th>Song_Name</th>\n",
       "      <th>Timestamp</th>\n",
       "      <th>Views</th>\n",
       "      <th>Comments</th>\n",
       "      <th>Likes</th>\n",
       "      <th>Popularity</th>\n",
       "      <th>Followers</th>\n",
       "    </tr>\n",
       "  </thead>\n",
       "  <tbody>\n",
       "    <tr>\n",
       "      <th>0</th>\n",
       "      <td>413890</td>\n",
       "      <td>Hardstyle</td>\n",
       "      <td>danceedm</td>\n",
       "      <td>AU</td>\n",
       "      <td>N-Vitral presents BOMBSQUAD - Poison Spitter (...</td>\n",
       "      <td>2018-03-30 15:24:45.000000</td>\n",
       "      <td>14017</td>\n",
       "      <td>4</td>\n",
       "      <td>499</td>\n",
       "      <td>97</td>\n",
       "      <td>119563</td>\n",
       "    </tr>\n",
       "    <tr>\n",
       "      <th>1</th>\n",
       "      <td>249453</td>\n",
       "      <td>Dj Aladdin</td>\n",
       "      <td>danceedm</td>\n",
       "      <td>AU</td>\n",
       "      <td>Dj Aladdin - Old School Hip Hop Quick Mix</td>\n",
       "      <td>2016-06-20 05:58:52.000000</td>\n",
       "      <td>1918</td>\n",
       "      <td>17</td>\n",
       "      <td>49</td>\n",
       "      <td>17</td>\n",
       "      <td>2141</td>\n",
       "    </tr>\n",
       "    <tr>\n",
       "      <th>2</th>\n",
       "      <td>681116</td>\n",
       "      <td>Maxximize On Air</td>\n",
       "      <td>danceedm</td>\n",
       "      <td>AU</td>\n",
       "      <td>Maxximize On Air - Mixed by Blasterjaxx - Epis...</td>\n",
       "      <td>2015-05-08 17:45:59.000000</td>\n",
       "      <td>9668</td>\n",
       "      <td>11</td>\n",
       "      <td>312</td>\n",
       "      <td>91</td>\n",
       "      <td>22248</td>\n",
       "    </tr>\n",
       "    <tr>\n",
       "      <th>3</th>\n",
       "      <td>387253</td>\n",
       "      <td>GR6 EXPLODE</td>\n",
       "      <td>rbsoul</td>\n",
       "      <td>AU</td>\n",
       "      <td>MC Yago - Tenho Compromisso (DJ R7)</td>\n",
       "      <td>2017-06-08 23:50:03.000000</td>\n",
       "      <td>113036</td>\n",
       "      <td>2</td>\n",
       "      <td>2,400</td>\n",
       "      <td>76</td>\n",
       "      <td>393655</td>\n",
       "    </tr>\n",
       "    <tr>\n",
       "      <th>4</th>\n",
       "      <td>1428029</td>\n",
       "      <td>Tritonal</td>\n",
       "      <td>danceedm</td>\n",
       "      <td>AU</td>\n",
       "      <td>Escape (feat. Steph Jones)</td>\n",
       "      <td>2016-09-17 20:50:19.000000</td>\n",
       "      <td>110024</td>\n",
       "      <td>81</td>\n",
       "      <td>3,031</td>\n",
       "      <td>699</td>\n",
       "      <td>201030</td>\n",
       "    </tr>\n",
       "  </tbody>\n",
       "</table>\n",
       "</div>"
      ],
      "text/plain": [
       "   Unique_ID              Name     Genre Country  \\\n",
       "0     413890         Hardstyle  danceedm      AU   \n",
       "1     249453        Dj Aladdin  danceedm      AU   \n",
       "2     681116  Maxximize On Air  danceedm      AU   \n",
       "3     387253       GR6 EXPLODE    rbsoul      AU   \n",
       "4    1428029          Tritonal  danceedm      AU   \n",
       "\n",
       "                                           Song_Name  \\\n",
       "0  N-Vitral presents BOMBSQUAD - Poison Spitter (...   \n",
       "1          Dj Aladdin - Old School Hip Hop Quick Mix   \n",
       "2  Maxximize On Air - Mixed by Blasterjaxx - Epis...   \n",
       "3                MC Yago - Tenho Compromisso (DJ R7)   \n",
       "4                         Escape (feat. Steph Jones)   \n",
       "\n",
       "                    Timestamp   Views  Comments  Likes Popularity  Followers  \n",
       "0  2018-03-30 15:24:45.000000   14017         4    499         97     119563  \n",
       "1  2016-06-20 05:58:52.000000    1918        17     49         17       2141  \n",
       "2  2015-05-08 17:45:59.000000    9668        11    312         91      22248  \n",
       "3  2017-06-08 23:50:03.000000  113036         2  2,400         76     393655  \n",
       "4  2016-09-17 20:50:19.000000  110024        81  3,031        699     201030  "
      ]
     },
     "execution_count": 2,
     "metadata": {},
     "output_type": "execute_result"
    }
   ],
   "source": [
    "train = pd.read_csv('data/Data_Train.csv')\n",
    "test = pd.read_csv('data/Data_Test.csv')\n",
    "\n",
    "train.head()"
   ]
  },
  {
   "cell_type": "code",
   "execution_count": 3,
   "metadata": {},
   "outputs": [
    {
     "name": "stdout",
     "output_type": "stream",
     "text": [
      "<class 'pandas.core.frame.DataFrame'>\n",
      "RangeIndex: 78458 entries, 0 to 78457\n",
      "Data columns (total 11 columns):\n",
      "Unique_ID     78458 non-null int64\n",
      "Name          78458 non-null object\n",
      "Genre         78458 non-null object\n",
      "Country       78458 non-null object\n",
      "Song_Name     78457 non-null object\n",
      "Timestamp     78458 non-null object\n",
      "Views         78458 non-null int64\n",
      "Comments      78458 non-null int64\n",
      "Likes         78458 non-null object\n",
      "Popularity    78458 non-null object\n",
      "Followers     78458 non-null int64\n",
      "dtypes: int64(4), object(7)\n",
      "memory usage: 6.6+ MB\n"
     ]
    }
   ],
   "source": [
    "train.info()"
   ]
  },
  {
   "cell_type": "markdown",
   "metadata": {},
   "source": [
    "* Timestamp could have been changed to timeseries dtype.\n",
    "* Likes, Popularity should be int type. They were object type in given dataset and requires additional\n",
    "  investigation."
   ]
  },
  {
   "cell_type": "code",
   "execution_count": 4,
   "metadata": {
    "scrolled": true
   },
   "outputs": [
    {
     "data": {
      "text/plain": [
       "AU    78458\n",
       "Name: Country, dtype: int64"
      ]
     },
     "execution_count": 4,
     "metadata": {},
     "output_type": "execute_result"
    }
   ],
   "source": [
    "train.Country.value_counts()"
   ]
  },
  {
   "cell_type": "code",
   "execution_count": 5,
   "metadata": {},
   "outputs": [
    {
     "name": "stdout",
     "output_type": "stream",
     "text": [
      "<class 'pandas.core.frame.DataFrame'>\n",
      "RangeIndex: 19615 entries, 0 to 19614\n",
      "Data columns (total 10 columns):\n",
      "Unique_ID     19615 non-null int64\n",
      "Name          19615 non-null object\n",
      "Genre         19615 non-null object\n",
      "Country       19615 non-null object\n",
      "Song_Name     19615 non-null object\n",
      "Timestamp     19615 non-null object\n",
      "Comments      19615 non-null int64\n",
      "Likes         19615 non-null object\n",
      "Popularity    19615 non-null object\n",
      "Followers     19615 non-null int64\n",
      "dtypes: int64(3), object(7)\n",
      "memory usage: 1.5+ MB\n"
     ]
    }
   ],
   "source": [
    "test.info()"
   ]
  },
  {
   "cell_type": "code",
   "execution_count": 6,
   "metadata": {},
   "outputs": [
    {
     "data": {
      "text/plain": [
       "AU    19615\n",
       "Name: Country, dtype: int64"
      ]
     },
     "execution_count": 6,
     "metadata": {},
     "output_type": "execute_result"
    }
   ],
   "source": [
    "test.Country.value_counts()"
   ]
  },
  {
   "cell_type": "markdown",
   "metadata": {},
   "source": [
    "* Both train, test set dtypes looks identical. Combining both the sets for ease of manipulation.\n",
    "* All the songs were from Australia. So country feature will not have any importance on target prediction."
   ]
  },
  {
   "cell_type": "code",
   "execution_count": 7,
   "metadata": {},
   "outputs": [
    {
     "name": "stdout",
     "output_type": "stream",
     "text": [
      "78458 19615\n"
     ]
    },
    {
     "data": {
      "text/plain": [
       "(98073, 9)"
      ]
     },
     "execution_count": 7,
     "metadata": {},
     "output_type": "execute_result"
    }
   ],
   "source": [
    "target = train['Views']\n",
    "train.drop(['Views'], axis = 1, inplace = True)\n",
    "print(len(train), len(test))\n",
    "\n",
    "df = pd.concat([train, test])\n",
    "df.drop(['Country'], axis=1 , inplace=True)\n",
    "df.shape"
   ]
  },
  {
   "cell_type": "code",
   "execution_count": 8,
   "metadata": {},
   "outputs": [
    {
     "data": {
      "text/plain": [
       "Index(['Unique_ID', 'Name', 'Genre', 'Song_Name', 'Timestamp', 'Comments',\n",
       "       'Likes', 'Popularity', 'Followers'],\n",
       "      dtype='object')"
      ]
     },
     "execution_count": 8,
     "metadata": {},
     "output_type": "execute_result"
    }
   ],
   "source": [
    "df.columns"
   ]
  },
  {
   "cell_type": "code",
   "execution_count": 9,
   "metadata": {},
   "outputs": [],
   "source": [
    "features = ['Name', 'Genre', 'Song_Name', 'Timestamp', 'Comments', 'Likes', 'Popularity', 'Followers']"
   ]
  },
  {
   "cell_type": "code",
   "execution_count": 10,
   "metadata": {
    "scrolled": false
   },
   "outputs": [
    {
     "name": "stdout",
     "output_type": "stream",
     "text": [
      "String values in the Likes column are: ['K' 'M']\n",
      "String values in the Popularity column are: ['K']\n"
     ]
    }
   ],
   "source": [
    "obj_col = ['Likes', 'Popularity']\n",
    "for i in obj_col:\n",
    "    print(f'String values in the {i} column are:', \n",
    "          df[df[i].str.contains(pat='[a-zA-Z]', regex=True)][i].str.strip().str[-1].unique())"
   ]
  },
  {
   "cell_type": "markdown",
   "metadata": {},
   "source": [
    "<h3>It is found that Likes, Popularity columns are obj type since they have 'K', 'M' to indicate 10**3, 10**6.</h3>"
   ]
  },
  {
   "cell_type": "code",
   "execution_count": 11,
   "metadata": {},
   "outputs": [],
   "source": [
    "def col_cleaner(x):\n",
    "    if ',' in x:\n",
    "        x = x.replace(',','')\n",
    "    elif 'K' in x:\n",
    "        x = x.replace('K','')\n",
    "        x = float(x)*10**3\n",
    "    elif 'M' in x:\n",
    "        x = x.replace('M','')\n",
    "        x = float(x)*10**6\n",
    "    return float(x)"
   ]
  },
  {
   "cell_type": "code",
   "execution_count": 12,
   "metadata": {},
   "outputs": [],
   "source": [
    "for i in obj_col:\n",
    "    df[i]=df[i].apply(col_cleaner)"
   ]
  },
  {
   "cell_type": "code",
   "execution_count": 13,
   "metadata": {},
   "outputs": [
    {
     "name": "stdout",
     "output_type": "stream",
     "text": [
      "<class 'pandas.core.frame.DataFrame'>\n",
      "Int64Index: 98073 entries, 0 to 19614\n",
      "Data columns (total 9 columns):\n",
      "Unique_ID     98073 non-null int64\n",
      "Name          98073 non-null object\n",
      "Genre         98073 non-null object\n",
      "Song_Name     98072 non-null object\n",
      "Timestamp     98073 non-null object\n",
      "Comments      98073 non-null int64\n",
      "Likes         98073 non-null float64\n",
      "Popularity    98073 non-null float64\n",
      "Followers     98073 non-null int64\n",
      "dtypes: float64(2), int64(3), object(4)\n",
      "memory usage: 7.5+ MB\n"
     ]
    }
   ],
   "source": [
    "df.info()"
   ]
  },
  {
   "cell_type": "code",
   "execution_count": 14,
   "metadata": {},
   "outputs": [],
   "source": [
    "#converting the timestamp column to datetime dtype \n",
    "df.Timestamp = pd.to_datetime(df.Timestamp)"
   ]
  },
  {
   "cell_type": "code",
   "execution_count": 15,
   "metadata": {},
   "outputs": [
    {
     "name": "stdout",
     "output_type": "stream",
     "text": [
      "       Unique_ID      Name       Genre Song_Name           Timestamp  \\\n",
      "31398    1240617  San Holo  electronic       NaN 2015-01-17 23:57:50   \n",
      "\n",
      "       Comments  Likes  Popularity  Followers  \n",
      "31398       540  705.0       178.0     440088  \n"
     ]
    },
    {
     "data": {
      "text/html": [
       "<div>\n",
       "<style scoped>\n",
       "    .dataframe tbody tr th:only-of-type {\n",
       "        vertical-align: middle;\n",
       "    }\n",
       "\n",
       "    .dataframe tbody tr th {\n",
       "        vertical-align: top;\n",
       "    }\n",
       "\n",
       "    .dataframe thead th {\n",
       "        text-align: right;\n",
       "    }\n",
       "</style>\n",
       "<table border=\"1\" class=\"dataframe\">\n",
       "  <thead>\n",
       "    <tr style=\"text-align: right;\">\n",
       "      <th></th>\n",
       "      <th>Unique_ID</th>\n",
       "      <th>Name</th>\n",
       "      <th>Genre</th>\n",
       "      <th>Song_Name</th>\n",
       "      <th>Timestamp</th>\n",
       "      <th>Comments</th>\n",
       "      <th>Likes</th>\n",
       "      <th>Popularity</th>\n",
       "      <th>Followers</th>\n",
       "    </tr>\n",
       "  </thead>\n",
       "  <tbody>\n",
       "    <tr>\n",
       "      <th>31398</th>\n",
       "      <td>1240617</td>\n",
       "      <td>San Holo</td>\n",
       "      <td>electronic</td>\n",
       "      <td>xxxxx</td>\n",
       "      <td>2015-01-17 23:57:50</td>\n",
       "      <td>540</td>\n",
       "      <td>705.0</td>\n",
       "      <td>178.0</td>\n",
       "      <td>440088</td>\n",
       "    </tr>\n",
       "  </tbody>\n",
       "</table>\n",
       "</div>"
      ],
      "text/plain": [
       "       Unique_ID      Name       Genre Song_Name           Timestamp  \\\n",
       "31398    1240617  San Holo  electronic     xxxxx 2015-01-17 23:57:50   \n",
       "\n",
       "       Comments  Likes  Popularity  Followers  \n",
       "31398       540  705.0       178.0     440088  "
      ]
     },
     "execution_count": 15,
     "metadata": {},
     "output_type": "execute_result"
    }
   ],
   "source": [
    "#changing the missing song_name with dummy name\n",
    "print(df[df.Song_Name.isnull()])\n",
    "df.Song_Name=df.Song_Name.fillna('xxxxx')\n",
    "df.iloc[[31398]]"
   ]
  },
  {
   "cell_type": "code",
   "execution_count": 16,
   "metadata": {},
   "outputs": [],
   "source": [
    "col_name = ['Name', 'Genre']\n",
    "#for i in col_name:\n",
    "df[col_name] = df[col_name].apply(lambda x : pd.factorize(x, sort=True)[0])"
   ]
  },
  {
   "cell_type": "code",
   "execution_count": 17,
   "metadata": {},
   "outputs": [],
   "source": [
    "agg_func = {\n",
    "    'Comments': ['mean','min','max','sum','median'],\n",
    "    'Likes': ['mean','min','max','sum','median'],\n",
    "    'Popularity': ['mean','min','max','sum','median'],\n",
    "    'Followers': ['mean','min','max','sum']\n",
    "}\n",
    "\n",
    "agg_df = df.groupby(by='Name').agg(agg_func)\n",
    "agg_df.columns = [col+'_'+i for col, i in agg_df.columns]\n",
    "df = pd.merge(df, agg_df, how='left', on='Name')"
   ]
  },
  {
   "cell_type": "code",
   "execution_count": 18,
   "metadata": {},
   "outputs": [],
   "source": [
    "df['Year'] = df.Timestamp.dt.year\n",
    "df['Month'] = df.Timestamp.dt.month\n",
    "df['Date'] = df.Timestamp.dt.date\n",
    "df['Hour'] = df.Timestamp.dt.hour\n",
    "df['Minute'] = df.Timestamp.dt.minute\n",
    "df['Week'] = df.Timestamp.dt.weekofyear\n",
    "df['Dayofweek'] = df.Timestamp.dt.dayofweek"
   ]
  },
  {
   "cell_type": "code",
   "execution_count": 19,
   "metadata": {},
   "outputs": [],
   "source": [
    "from datetime import datetime\n",
    "df['Days_Since_Release'] = (datetime.now() - df.Timestamp).dt.days\n",
    "df['Weekend'] = (df.Timestamp.dt.dayofweek).astype(int)"
   ]
  },
  {
   "cell_type": "code",
   "execution_count": 21,
   "metadata": {
    "scrolled": true
   },
   "outputs": [],
   "source": [
    "df['Likes_per_Follower'] = df.Likes / df.Followers\n",
    "df['Likes_per_Comment'] = df.Likes / (df.Comments + 1e-5)\n",
    "df['Likes_per_Popularity'] = df.Likes / (df.Popularity + 1e-5)\n",
    "\n",
    "df['Comments_per_Follower'] = df.Comments / df.Followers\n",
    "df['Comments_per_Popularity'] = df.Comments / (df.Popularity + 1e-5)\n",
    "\n",
    "df['Popularity_per_Follower'] = df.Popularity / df.Followers\n",
    "df['Total_Engagements'] = df.Comments + df.Likes"
   ]
  },
  {
   "cell_type": "code",
   "execution_count": 143,
   "metadata": {
    "scrolled": true
   },
   "outputs": [
    {
     "data": {
      "text/plain": [
       "[('Remix', 12051),\n",
       " ('The', 8499),\n",
       " ('feat', 8426),\n",
       " ('DJ', 6678),\n",
       " ('MC', 6230),\n",
       " ('Mix', 5317),\n",
       " ('Premiere', 3289),\n",
       " ('I', 2761),\n",
       " ('A', 2679),\n",
       " ('2018', 2648),\n",
       " ('ft', 2621),\n",
       " ('You', 2542),\n",
       " ('Radio', 2361),\n",
       " ('Me', 2289),\n",
       " ('x', 2283),\n",
       " ('OUT', 2263),\n",
       " ('NOW', 2245),\n",
       " ('Prod', 2240),\n",
       " ('Original', 2227),\n",
       " ('s', 2106),\n",
       " ('Ft', 1934),\n",
       " ('Of', 1920),\n",
       " ('by', 1833),\n",
       " ('In', 1796),\n",
       " ('It', 1679),\n",
       " ('e', 1658),\n",
       " ('Beat', 1641),\n",
       " ('Free', 1527),\n",
       " ('FREE', 1522),\n",
       " ('2017', 1513),\n",
       " ('Love', 1504),\n",
       " ('of', 1466),\n",
       " ('Preview', 1433),\n",
       " ('Official', 1421),\n",
       " ('t', 1411),\n",
       " ('On', 1360),\n",
       " ('X', 1355),\n",
       " ('By', 1351),\n",
       " ('S', 1305),\n",
       " ('Feat', 1305),\n",
       " ('De', 1294),\n",
       " ('Version', 1291),\n",
       " ('My', 1286),\n",
       " ('2019', 1263),\n",
       " ('the', 1262),\n",
       " ('o', 1260),\n",
       " ('Live', 1244),\n",
       " ('La', 1227),\n",
       " ('To', 1194),\n",
       " ('No', 1178)]"
      ]
     },
     "execution_count": 143,
     "metadata": {},
     "output_type": "execute_result"
    }
   ],
   "source": [
    "#from collections import Counter\n",
    "#Counter(' '.join(df['Song_Name'].str.replace(\"[^a-zA-Z0-9]\",\" \")).split()).most_common(50)"
   ]
  },
  {
   "cell_type": "code",
   "execution_count": 177,
   "metadata": {},
   "outputs": [
    {
     "data": {
      "text/plain": [
       "0         683\n",
       "1        1332\n",
       "2        1740\n",
       "3         978\n",
       "4        1242\n",
       "         ... \n",
       "98068     896\n",
       "98069    1481\n",
       "98070     838\n",
       "98071     895\n",
       "98072    1657\n",
       "Name: Days_Since_Release, Length: 98073, dtype: int64"
      ]
     },
     "execution_count": 177,
     "metadata": {},
     "output_type": "execute_result"
    }
   ],
   "source": [
    "df.groupby('Name')['Days_Since_Release'].shift(0)"
   ]
  },
  {
   "cell_type": "code",
   "execution_count": 179,
   "metadata": {
    "scrolled": false
   },
   "outputs": [
    {
     "data": {
      "text/plain": [
       "206      1469\n",
       "256       991\n",
       "324      1823\n",
       "2305     1966\n",
       "2964      522\n",
       "         ... \n",
       "95823    2029\n",
       "96727    1823\n",
       "96785    1665\n",
       "96904    1930\n",
       "96910     883\n",
       "Name: Days_Since_Release, Length: 221, dtype: int64"
      ]
     },
     "execution_count": 179,
     "metadata": {},
     "output_type": "execute_result"
    }
   ],
   "source": [
    "df.loc[df.Name == 0, 'Days_Since_Release']"
   ]
  },
  {
   "cell_type": "code",
   "execution_count": 192,
   "metadata": {
    "scrolled": true
   },
   "outputs": [
    {
     "data": {
      "text/plain": [
       "24578     41.0\n",
       "23814     56.0\n",
       "7731      75.0\n",
       "74940     71.0\n",
       "80259      2.0\n",
       "79497    100.0\n",
       "83987     16.0\n",
       "44893     57.0\n",
       "90660      NaN\n",
       "Name: Days_Since_Release, dtype: float64"
      ]
     },
     "execution_count": 192,
     "metadata": {},
     "output_type": "execute_result"
    }
   ],
   "source": [
    "df = df.sort_values(by=['Name', 'Timestamp'])\n",
    "df.loc[df.Name == 1, 'Days_Since_Release'].shift(0)- df.loc[df.Name == 1, 'Days_Since_Release'].shift(-1)"
   ]
  },
  {
   "cell_type": "code",
   "execution_count": 204,
   "metadata": {},
   "outputs": [
    {
     "data": {
      "text/html": [
       "<div>\n",
       "<style scoped>\n",
       "    .dataframe tbody tr th:only-of-type {\n",
       "        vertical-align: middle;\n",
       "    }\n",
       "\n",
       "    .dataframe tbody tr th {\n",
       "        vertical-align: top;\n",
       "    }\n",
       "\n",
       "    .dataframe thead th {\n",
       "        text-align: right;\n",
       "    }\n",
       "</style>\n",
       "<table border=\"1\" class=\"dataframe\">\n",
       "  <thead>\n",
       "    <tr style=\"text-align: right;\">\n",
       "      <th></th>\n",
       "      <th>24578</th>\n",
       "      <th>23814</th>\n",
       "      <th>7731</th>\n",
       "      <th>74940</th>\n",
       "      <th>80259</th>\n",
       "      <th>79497</th>\n",
       "      <th>83987</th>\n",
       "      <th>44893</th>\n",
       "      <th>90660</th>\n",
       "    </tr>\n",
       "  </thead>\n",
       "  <tbody>\n",
       "    <tr>\n",
       "      <th>Days_Since_Release</th>\n",
       "      <td>779.0</td>\n",
       "      <td>738.0</td>\n",
       "      <td>682.0</td>\n",
       "      <td>607.0</td>\n",
       "      <td>536.0</td>\n",
       "      <td>534.0</td>\n",
       "      <td>434.0</td>\n",
       "      <td>418.0</td>\n",
       "      <td>361.0</td>\n",
       "    </tr>\n",
       "    <tr>\n",
       "      <th>Days_Since_Release</th>\n",
       "      <td>738.0</td>\n",
       "      <td>682.0</td>\n",
       "      <td>607.0</td>\n",
       "      <td>536.0</td>\n",
       "      <td>534.0</td>\n",
       "      <td>434.0</td>\n",
       "      <td>418.0</td>\n",
       "      <td>361.0</td>\n",
       "      <td>0.0</td>\n",
       "    </tr>\n",
       "    <tr>\n",
       "      <th>Days_Since_Release</th>\n",
       "      <td>41.0</td>\n",
       "      <td>56.0</td>\n",
       "      <td>75.0</td>\n",
       "      <td>71.0</td>\n",
       "      <td>2.0</td>\n",
       "      <td>100.0</td>\n",
       "      <td>16.0</td>\n",
       "      <td>57.0</td>\n",
       "      <td>0.0</td>\n",
       "    </tr>\n",
       "  </tbody>\n",
       "</table>\n",
       "</div>"
      ],
      "text/plain": [
       "                    24578  23814  7731   74940  80259  79497  83987  44893  \\\n",
       "Days_Since_Release  779.0  738.0  682.0  607.0  536.0  534.0  434.0  418.0   \n",
       "Days_Since_Release  738.0  682.0  607.0  536.0  534.0  434.0  418.0  361.0   \n",
       "Days_Since_Release   41.0   56.0   75.0   71.0    2.0  100.0   16.0   57.0   \n",
       "\n",
       "                    90660  \n",
       "Days_Since_Release  361.0  \n",
       "Days_Since_Release    0.0  \n",
       "Days_Since_Release    0.0  "
      ]
     },
     "execution_count": 204,
     "metadata": {},
     "output_type": "execute_result"
    }
   ],
   "source": [
    "nextal = pd.DataFrame([df.loc[df.Name == 1, 'Days_Since_Release'].shift(0),df.loc[df.Name == 1, 'Days_Since_Release'].shift(-1), df.loc[df.Name == 1, 'Days_Since_Release'].shift(0)- df.loc[df.Name == 1, 'Days_Since_Release'].shift(-1)])\n",
    "nextal = nextal.fillna(0)\n",
    "nextal"
   ]
  },
  {
   "cell_type": "code",
   "execution_count": 207,
   "metadata": {},
   "outputs": [
    {
     "data": {
      "text/html": [
       "<div>\n",
       "<style scoped>\n",
       "    .dataframe tbody tr th:only-of-type {\n",
       "        vertical-align: middle;\n",
       "    }\n",
       "\n",
       "    .dataframe tbody tr th {\n",
       "        vertical-align: top;\n",
       "    }\n",
       "\n",
       "    .dataframe thead th {\n",
       "        text-align: right;\n",
       "    }\n",
       "</style>\n",
       "<table border=\"1\" class=\"dataframe\">\n",
       "  <thead>\n",
       "    <tr style=\"text-align: right;\">\n",
       "      <th></th>\n",
       "      <th>24578</th>\n",
       "      <th>23814</th>\n",
       "      <th>7731</th>\n",
       "      <th>74940</th>\n",
       "      <th>80259</th>\n",
       "      <th>79497</th>\n",
       "      <th>83987</th>\n",
       "      <th>44893</th>\n",
       "      <th>90660</th>\n",
       "    </tr>\n",
       "  </thead>\n",
       "  <tbody>\n",
       "    <tr>\n",
       "      <th>Days_Since_Release</th>\n",
       "      <td>-779.0</td>\n",
       "      <td>-738.0</td>\n",
       "      <td>-682.0</td>\n",
       "      <td>-607.0</td>\n",
       "      <td>-536.0</td>\n",
       "      <td>-534.0</td>\n",
       "      <td>-434.0</td>\n",
       "      <td>-418.0</td>\n",
       "      <td>-361.0</td>\n",
       "    </tr>\n",
       "    <tr>\n",
       "      <th>Days_Since_Release</th>\n",
       "      <td>-0.0</td>\n",
       "      <td>-779.0</td>\n",
       "      <td>-738.0</td>\n",
       "      <td>-682.0</td>\n",
       "      <td>-607.0</td>\n",
       "      <td>-536.0</td>\n",
       "      <td>-534.0</td>\n",
       "      <td>-434.0</td>\n",
       "      <td>-418.0</td>\n",
       "    </tr>\n",
       "    <tr>\n",
       "      <th>Days_Since_Release</th>\n",
       "      <td>-0.0</td>\n",
       "      <td>-41.0</td>\n",
       "      <td>-56.0</td>\n",
       "      <td>-75.0</td>\n",
       "      <td>-71.0</td>\n",
       "      <td>-2.0</td>\n",
       "      <td>-100.0</td>\n",
       "      <td>-16.0</td>\n",
       "      <td>-57.0</td>\n",
       "    </tr>\n",
       "  </tbody>\n",
       "</table>\n",
       "</div>"
      ],
      "text/plain": [
       "                    24578  23814  7731   74940  80259  79497  83987  44893  \\\n",
       "Days_Since_Release -779.0 -738.0 -682.0 -607.0 -536.0 -534.0 -434.0 -418.0   \n",
       "Days_Since_Release   -0.0 -779.0 -738.0 -682.0 -607.0 -536.0 -534.0 -434.0   \n",
       "Days_Since_Release   -0.0  -41.0  -56.0  -75.0  -71.0   -2.0 -100.0  -16.0   \n",
       "\n",
       "                    90660  \n",
       "Days_Since_Release -361.0  \n",
       "Days_Since_Release -418.0  \n",
       "Days_Since_Release  -57.0  "
      ]
     },
     "execution_count": 207,
     "metadata": {},
     "output_type": "execute_result"
    }
   ],
   "source": [
    "preval=pd.DataFrame([df.loc[df.Name == 1, 'Days_Since_Release'].shift(0),df.loc[df.Name == 1, 'Days_Since_Release'].shift(1), df.loc[df.Name == 1, 'Days_Since_Release'].shift(1)- df.loc[df.Name == 1, 'Days_Since_Release'].shift(0)])\n",
    "preval=preval.fillna(0)*-1\n",
    "preval"
   ]
  },
  {
   "cell_type": "code",
   "execution_count": null,
   "metadata": {},
   "outputs": [],
   "source": []
  }
 ],
 "metadata": {
  "kernelspec": {
   "display_name": "Python 3",
   "language": "python",
   "name": "python3"
  },
  "language_info": {
   "codemirror_mode": {
    "name": "ipython",
    "version": 3
   },
   "file_extension": ".py",
   "mimetype": "text/x-python",
   "name": "python",
   "nbconvert_exporter": "python",
   "pygments_lexer": "ipython3",
   "version": "3.7.3"
  }
 },
 "nbformat": 4,
 "nbformat_minor": 2
}
