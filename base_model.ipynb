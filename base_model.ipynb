{
 "cells": [
  {
   "cell_type": "code",
   "execution_count": 2,
   "metadata": {
    "scrolled": true
   },
   "outputs": [],
   "source": [
    "import pandas as pd\n",
    "import numpy as np\n",
    "import matplotlib.pyplot as plt\n",
    "\n",
    "from sklearn.linear_model import LinearRegression\n",
    "from sklearn.model_selection import train_test_split\n",
    "from sklearn.tree import DecisionTreeRegressor\n",
    "from sklearn.metrics import mean_squared_error"
   ]
  },
  {
   "cell_type": "code",
   "execution_count": 3,
   "metadata": {
    "scrolled": false
   },
   "outputs": [
    {
     "name": "stdout",
     "output_type": "stream",
     "text": [
      "<class 'pandas.core.frame.DataFrame'>\n",
      "RangeIndex: 78458 entries, 0 to 78457\n",
      "Data columns (total 11 columns):\n",
      "Unique_ID     78458 non-null int64\n",
      "Name          78458 non-null object\n",
      "Genre         78458 non-null object\n",
      "Country       78458 non-null object\n",
      "Song_Name     78457 non-null object\n",
      "Timestamp     78458 non-null object\n",
      "Views         78458 non-null int64\n",
      "Comments      78458 non-null int64\n",
      "Likes         78458 non-null object\n",
      "Popularity    78458 non-null object\n",
      "Followers     78458 non-null int64\n",
      "dtypes: int64(4), object(7)\n",
      "memory usage: 6.6+ MB\n"
     ]
    }
   ],
   "source": [
    "df = pd.read_csv('data/Data_Train.csv')\n",
    "df.info()"
   ]
  },
  {
   "cell_type": "code",
   "execution_count": 4,
   "metadata": {},
   "outputs": [],
   "source": [
    "features = ['Name', 'Genre', 'Song_Name', 'Timestamp', 'Comments', 'Likes', 'Popularity', 'Followers']\n",
    "df['Name'] = pd.factorize(df.Name)[0]\n",
    "df['Genre'] = pd.factorize(df.Genre)[0]"
   ]
  },
  {
   "cell_type": "code",
   "execution_count": 5,
   "metadata": {},
   "outputs": [],
   "source": [
    "df = df[['Name', 'Genre', 'Timestamp', 'Comments', 'Likes', 'Popularity', 'Followers']]"
   ]
  },
  {
   "cell_type": "code",
   "execution_count": 6,
   "metadata": {},
   "outputs": [],
   "source": [
    "def cleaner(x):\n",
    "    if ',' in x:\n",
    "        x = x.replace(',', '')\n",
    "    elif 'M' in x:\n",
    "        x = float(x.replace('M', ''))\n",
    "        x = x*10**6\n",
    "    elif 'K' in x:\n",
    "        x = float(x.replace('K', ''))\n",
    "        x = x*10**3\n",
    "    return float(x)"
   ]
  },
  {
   "cell_type": "code",
   "execution_count": 7,
   "metadata": {},
   "outputs": [],
   "source": [
    "df.Likes = df.Likes.apply(lambda x: cleaner(x))\n",
    "df.Popularity = df.Popularity.apply(lambda x: cleaner(x))"
   ]
  },
  {
   "cell_type": "code",
   "execution_count": 8,
   "metadata": {},
   "outputs": [],
   "source": [
    "#df.columns = df.columns.str.lower()\n",
    "df.columns = map(str.lower, df.columns)"
   ]
  },
  {
   "cell_type": "code",
   "execution_count": 9,
   "metadata": {},
   "outputs": [],
   "source": [
    "df['timestamp'] = pd.to_datetime(df.timestamp)"
   ]
  },
  {
   "cell_type": "code",
   "execution_count": 10,
   "metadata": {},
   "outputs": [
    {
     "data": {
      "text/plain": [
       "0        4\n",
       "1        0\n",
       "2        4\n",
       "3        3\n",
       "4        5\n",
       "        ..\n",
       "78453    0\n",
       "78454    2\n",
       "78455    0\n",
       "78456    2\n",
       "78457    5\n",
       "Name: timestamp, Length: 78458, dtype: int64"
      ]
     },
     "execution_count": 10,
     "metadata": {},
     "output_type": "execute_result"
    }
   ],
   "source": [
    "df.timestamp.dt.dayofweek"
   ]
  },
  {
   "cell_type": "code",
   "execution_count": 11,
   "metadata": {},
   "outputs": [],
   "source": [
    "from datetime import datetime\n",
    "df['year'] = df.timestamp.dt.year\n",
    "df['month'] = df.timestamp.dt.month\n",
    "df['day'] = df.timestamp.dt.day\n",
    "df['day_of_year'] = df.timestamp.dt.dayofyear\n",
    "df['day_of_week'] = df.timestamp.dt.dayofweek\n",
    "df['is_weekend'] = (df.timestamp.dt.weekday>=5).astype(int)\n",
    "df['week'] = df.timestamp.dt.week\n",
    "df['days_since_release'] = (datetime.now() - df.timestamp).dt.days"
   ]
  },
  {
   "cell_type": "code",
   "execution_count": 12,
   "metadata": {},
   "outputs": [],
   "source": [
    "df['engagement'] = df.likes + df.comments"
   ]
  },
  {
   "cell_type": "code",
   "execution_count": 13,
   "metadata": {
    "scrolled": false
   },
   "outputs": [
    {
     "name": "stdout",
     "output_type": "stream",
     "text": [
      "<class 'pandas.core.frame.DataFrame'>\n",
      "RangeIndex: 78458 entries, 0 to 78457\n",
      "Data columns (total 11 columns):\n",
      "Unique_ID     78458 non-null int64\n",
      "Name          78458 non-null object\n",
      "Genre         78458 non-null object\n",
      "Country       78458 non-null object\n",
      "Song_Name     78457 non-null object\n",
      "Timestamp     78458 non-null object\n",
      "Views         78458 non-null int64\n",
      "Comments      78458 non-null int64\n",
      "Likes         78458 non-null object\n",
      "Popularity    78458 non-null object\n",
      "Followers     78458 non-null int64\n",
      "dtypes: int64(4), object(7)\n",
      "memory usage: 6.6+ MB\n"
     ]
    }
   ],
   "source": [
    "df = pd.read_csv('data/Data_Train.csv')\n",
    "df.info()"
   ]
  },
  {
   "cell_type": "code",
   "execution_count": 14,
   "metadata": {},
   "outputs": [],
   "source": [
    "features = ['Name', 'Genre', 'Song_Name', 'Timestamp', 'Comments', 'Likes', 'Popularity', 'Followers']\n",
    "df['Name'] = pd.factorize(df.Name)[0]\n",
    "df['Genre'] = pd.factorize(df.Genre)[0]"
   ]
  },
  {
   "cell_type": "code",
   "execution_count": null,
   "metadata": {},
   "outputs": [],
   "source": []
  }
 ],
 "metadata": {
  "kernelspec": {
   "display_name": "Python 3",
   "language": "python",
   "name": "python3"
  },
  "language_info": {
   "codemirror_mode": {
    "name": "ipython",
    "version": 3
   },
   "file_extension": ".py",
   "mimetype": "text/x-python",
   "name": "python",
   "nbconvert_exporter": "python",
   "pygments_lexer": "ipython3",
   "version": "3.7.3"
  }
 },
 "nbformat": 4,
 "nbformat_minor": 2
}
