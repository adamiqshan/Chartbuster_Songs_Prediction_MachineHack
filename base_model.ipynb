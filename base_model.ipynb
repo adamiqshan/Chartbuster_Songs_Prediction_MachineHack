{
 "cells": [
  {
   "cell_type": "code",
   "execution_count": 61,
   "metadata": {
    "scrolled": true
   },
   "outputs": [],
   "source": [
    "import pandas as pd\n",
    "import numpy as np\n",
    "import matplotlib.pyplot as plt\n",
    "\n",
    "from sklearn.linear_model import LinearRegression\n",
    "from sklearn.model_selection import train_test_split\n",
    "from sklearn.ensemble import RandomForestRegressor\n",
    "from sklearn.metrics import mean_squared_error"
   ]
  },
  {
   "cell_type": "code",
   "execution_count": 31,
   "metadata": {
    "scrolled": true
   },
   "outputs": [
    {
     "name": "stdout",
     "output_type": "stream",
     "text": [
      "<class 'pandas.core.frame.DataFrame'>\n",
      "RangeIndex: 78458 entries, 0 to 78457\n",
      "Data columns (total 11 columns):\n",
      "Unique_ID     78458 non-null int64\n",
      "Name          78458 non-null object\n",
      "Genre         78458 non-null object\n",
      "Country       78458 non-null object\n",
      "Song_Name     78457 non-null object\n",
      "Timestamp     78458 non-null object\n",
      "Views         78458 non-null int64\n",
      "Comments      78458 non-null int64\n",
      "Likes         78458 non-null object\n",
      "Popularity    78458 non-null object\n",
      "Followers     78458 non-null int64\n",
      "dtypes: int64(4), object(7)\n",
      "memory usage: 6.6+ MB\n"
     ]
    }
   ],
   "source": [
    "df = pd.read_csv('data/Data_Train.csv')\n",
    "df.info()"
   ]
  },
  {
   "cell_type": "code",
   "execution_count": 32,
   "metadata": {},
   "outputs": [],
   "source": [
    "df['Name'] = pd.factorize(df.Name)[0]\n",
    "df['Genre'] = pd.factorize(df.Genre)[0]"
   ]
  },
  {
   "cell_type": "code",
   "execution_count": 33,
   "metadata": {},
   "outputs": [],
   "source": [
    "df = df[['Name', 'Genre', 'Timestamp', 'Comments', 'Likes', 'Popularity', 'Followers', 'Views']]"
   ]
  },
  {
   "cell_type": "code",
   "execution_count": 34,
   "metadata": {},
   "outputs": [],
   "source": [
    "def cleaner(x):\n",
    "    if ',' in x:\n",
    "        x = x.replace(',', '')\n",
    "    elif 'M' in x:\n",
    "        x = float(x.replace('M', ''))\n",
    "        x = x*10**6\n",
    "    elif 'K' in x:\n",
    "        x = float(x.replace('K', ''))\n",
    "        x = x*10**3\n",
    "    return float(x)"
   ]
  },
  {
   "cell_type": "code",
   "execution_count": 35,
   "metadata": {},
   "outputs": [],
   "source": [
    "df.Likes = df.Likes.apply(lambda x: cleaner(x))\n",
    "df.Popularity = df.Popularity.apply(lambda x: cleaner(x))"
   ]
  },
  {
   "cell_type": "code",
   "execution_count": 36,
   "metadata": {},
   "outputs": [],
   "source": [
    "#df.columns = df.columns.str.lower()\n",
    "df.columns = map(str.lower, df.columns)"
   ]
  },
  {
   "cell_type": "code",
   "execution_count": 37,
   "metadata": {},
   "outputs": [],
   "source": [
    "df['timestamp'] = pd.to_datetime(df.timestamp)"
   ]
  },
  {
   "cell_type": "code",
   "execution_count": 38,
   "metadata": {},
   "outputs": [],
   "source": [
    "from datetime import datetime\n",
    "df['year'] = df.timestamp.dt.year\n",
    "df['month'] = df.timestamp.dt.month\n",
    "df['day'] = df.timestamp.dt.day\n",
    "df['day_of_year'] = df.timestamp.dt.dayofyear\n",
    "df['day_of_week'] = df.timestamp.dt.dayofweek\n",
    "df['is_weekend'] = (df.timestamp.dt.weekday>=5).astype(int)\n",
    "df['week'] = df.timestamp.dt.week\n",
    "df['days_since_release'] = (datetime.now() - df.timestamp).dt.days"
   ]
  },
  {
   "cell_type": "code",
   "execution_count": 39,
   "metadata": {},
   "outputs": [],
   "source": [
    "df['engagement'] = df.likes + df.comments"
   ]
  },
  {
   "cell_type": "code",
   "execution_count": 44,
   "metadata": {},
   "outputs": [
    {
     "data": {
      "text/plain": [
       "Index(['name', 'genre', 'timestamp', 'comments', 'likes', 'popularity',\n",
       "       'followers', 'views', 'year', 'month', 'day', 'day_of_year',\n",
       "       'day_of_week', 'is_weekend', 'week', 'days_since_release',\n",
       "       'engagement'],\n",
       "      dtype='object')"
      ]
     },
     "execution_count": 44,
     "metadata": {},
     "output_type": "execute_result"
    }
   ],
   "source": [
    "df.columns"
   ]
  },
  {
   "cell_type": "code",
   "execution_count": 52,
   "metadata": {
    "scrolled": true
   },
   "outputs": [],
   "source": [
    "X = df[['name', 'genre', 'comments', 'likes', 'popularity',\n",
    "       'followers', 'year', 'month', 'day', 'day_of_year',\n",
    "       'day_of_week', 'is_weekend', 'week', 'days_since_release',\n",
    "       'engagement']]\n",
    "y = df['views']\n",
    "X_train, X_val, y_train, y_val = train_test_split(X, y, test_size=0.3)"
   ]
  },
  {
   "cell_type": "code",
   "execution_count": 53,
   "metadata": {},
   "outputs": [
    {
     "data": {
      "text/html": [
       "<div>\n",
       "<style scoped>\n",
       "    .dataframe tbody tr th:only-of-type {\n",
       "        vertical-align: middle;\n",
       "    }\n",
       "\n",
       "    .dataframe tbody tr th {\n",
       "        vertical-align: top;\n",
       "    }\n",
       "\n",
       "    .dataframe thead th {\n",
       "        text-align: right;\n",
       "    }\n",
       "</style>\n",
       "<table border=\"1\" class=\"dataframe\">\n",
       "  <thead>\n",
       "    <tr style=\"text-align: right;\">\n",
       "      <th></th>\n",
       "      <th>name</th>\n",
       "      <th>genre</th>\n",
       "      <th>comments</th>\n",
       "      <th>likes</th>\n",
       "      <th>popularity</th>\n",
       "      <th>followers</th>\n",
       "      <th>year</th>\n",
       "      <th>month</th>\n",
       "      <th>day</th>\n",
       "      <th>day_of_year</th>\n",
       "      <th>day_of_week</th>\n",
       "      <th>is_weekend</th>\n",
       "      <th>week</th>\n",
       "      <th>days_since_release</th>\n",
       "      <th>engagement</th>\n",
       "    </tr>\n",
       "  </thead>\n",
       "  <tbody>\n",
       "    <tr>\n",
       "      <th>71010</th>\n",
       "      <td>119</td>\n",
       "      <td>2</td>\n",
       "      <td>0</td>\n",
       "      <td>45.0</td>\n",
       "      <td>2.0</td>\n",
       "      <td>285677</td>\n",
       "      <td>2002</td>\n",
       "      <td>1</td>\n",
       "      <td>1</td>\n",
       "      <td>1</td>\n",
       "      <td>1</td>\n",
       "      <td>0</td>\n",
       "      <td>1</td>\n",
       "      <td>6617</td>\n",
       "      <td>45.0</td>\n",
       "    </tr>\n",
       "    <tr>\n",
       "      <th>52749</th>\n",
       "      <td>116</td>\n",
       "      <td>5</td>\n",
       "      <td>0</td>\n",
       "      <td>6.0</td>\n",
       "      <td>0.0</td>\n",
       "      <td>11237</td>\n",
       "      <td>2017</td>\n",
       "      <td>8</td>\n",
       "      <td>28</td>\n",
       "      <td>240</td>\n",
       "      <td>0</td>\n",
       "      <td>0</td>\n",
       "      <td>35</td>\n",
       "      <td>898</td>\n",
       "      <td>6.0</td>\n",
       "    </tr>\n",
       "    <tr>\n",
       "      <th>13191</th>\n",
       "      <td>466</td>\n",
       "      <td>0</td>\n",
       "      <td>1270</td>\n",
       "      <td>68500.0</td>\n",
       "      <td>14500.0</td>\n",
       "      <td>993435</td>\n",
       "      <td>2014</td>\n",
       "      <td>8</td>\n",
       "      <td>5</td>\n",
       "      <td>217</td>\n",
       "      <td>1</td>\n",
       "      <td>0</td>\n",
       "      <td>32</td>\n",
       "      <td>2017</td>\n",
       "      <td>69770.0</td>\n",
       "    </tr>\n",
       "    <tr>\n",
       "      <th>36553</th>\n",
       "      <td>59</td>\n",
       "      <td>0</td>\n",
       "      <td>53</td>\n",
       "      <td>5683.0</td>\n",
       "      <td>875.0</td>\n",
       "      <td>987927</td>\n",
       "      <td>2015</td>\n",
       "      <td>12</td>\n",
       "      <td>22</td>\n",
       "      <td>356</td>\n",
       "      <td>1</td>\n",
       "      <td>0</td>\n",
       "      <td>52</td>\n",
       "      <td>1513</td>\n",
       "      <td>5736.0</td>\n",
       "    </tr>\n",
       "    <tr>\n",
       "      <th>63793</th>\n",
       "      <td>70</td>\n",
       "      <td>5</td>\n",
       "      <td>18</td>\n",
       "      <td>1218.0</td>\n",
       "      <td>170.0</td>\n",
       "      <td>207678</td>\n",
       "      <td>2018</td>\n",
       "      <td>10</td>\n",
       "      <td>19</td>\n",
       "      <td>292</td>\n",
       "      <td>4</td>\n",
       "      <td>0</td>\n",
       "      <td>42</td>\n",
       "      <td>482</td>\n",
       "      <td>1236.0</td>\n",
       "    </tr>\n",
       "  </tbody>\n",
       "</table>\n",
       "</div>"
      ],
      "text/plain": [
       "       name  genre  comments    likes  popularity  followers  year  month  \\\n",
       "71010   119      2         0     45.0         2.0     285677  2002      1   \n",
       "52749   116      5         0      6.0         0.0      11237  2017      8   \n",
       "13191   466      0      1270  68500.0     14500.0     993435  2014      8   \n",
       "36553    59      0        53   5683.0       875.0     987927  2015     12   \n",
       "63793    70      5        18   1218.0       170.0     207678  2018     10   \n",
       "\n",
       "       day  day_of_year  day_of_week  is_weekend  week  days_since_release  \\\n",
       "71010    1            1            1           0     1                6617   \n",
       "52749   28          240            0           0    35                 898   \n",
       "13191    5          217            1           0    32                2017   \n",
       "36553   22          356            1           0    52                1513   \n",
       "63793   19          292            4           0    42                 482   \n",
       "\n",
       "       engagement  \n",
       "71010        45.0  \n",
       "52749         6.0  \n",
       "13191     69770.0  \n",
       "36553      5736.0  \n",
       "63793      1236.0  "
      ]
     },
     "execution_count": 53,
     "metadata": {},
     "output_type": "execute_result"
    }
   ],
   "source": [
    "X_train.head()"
   ]
  },
  {
   "cell_type": "code",
   "execution_count": 59,
   "metadata": {},
   "outputs": [
    {
     "name": "stdout",
     "output_type": "stream",
     "text": [
      "745798.8727741677\n",
      "556215958631.2191\n"
     ]
    }
   ],
   "source": [
    "clf = LinearRegression(normalize=True)\n",
    "clf.fit(X_train, y_train)\n",
    "\n",
    "y_pred = clf.predict(X_val)\n",
    "\n",
    "print(np.sqrt(mean_squared_error(y_val, y_pred)))\n",
    "print(mean_squared_error(y_val, y_pred))"
   ]
  },
  {
   "cell_type": "code",
   "execution_count": 87,
   "metadata": {},
   "outputs": [
    {
     "name": "stdout",
     "output_type": "stream",
     "text": [
      "704978.7624964183\n",
      "496995055570.9814\n"
     ]
    }
   ],
   "source": [
    "rf = RandomForestRegressor()\n",
    "\n",
    "rf.fit(X_train, y_train)\n",
    "\n",
    "y_pred = rf.predict(X_val)\n",
    "\n",
    "print(np.sqrt(mean_squared_error(y_val, y_pred)))\n",
    "print(mean_squared_error(y_val, y_pred))"
   ]
  },
  {
   "cell_type": "code",
   "execution_count": 88,
   "metadata": {},
   "outputs": [
    {
     "data": {
      "image/png": "[encoded data removed]",
      "text/plain": [
       "<Figure size 1080x504 with 1 Axes>"
      ]
     },
     "metadata": {
      "needs_background": "light"
     },
     "output_type": "display_data"
    }
   ],
   "source": [
    "import seaborn as sns\n",
    "feature_importance = pd.DataFrame(sorted(zip(X_train.columns, rf.feature_importances_), reverse=True), columns=['features', 'importance'])\n",
    "plt.figure(figsize=(15,7))\n",
    "sns.barplot(y='features', x='importance', data=feature_importance.sort_values(by='importance', ascending=False))\n",
    "plt.tight_layout()"
   ]
  },
  {
   "cell_type": "code",
   "execution_count": 95,
   "metadata": {},
   "outputs": [
    {
     "name": "stdout",
     "output_type": "stream",
     "text": [
      "<class 'pandas.core.frame.DataFrame'>\n",
      "RangeIndex: 19615 entries, 0 to 19614\n",
      "Data columns (total 19 columns):\n",
      "unique_id             19615 non-null int64\n",
      "name                  19615 non-null int64\n",
      "genre                 19615 non-null int64\n",
      "country               19615 non-null object\n",
      "song_name             19615 non-null object\n",
      "timestamp             19615 non-null datetime64[ns]\n",
      "comments              19615 non-null int64\n",
      "likes                 19615 non-null float64\n",
      "popularity            19615 non-null float64\n",
      "followers             19615 non-null int64\n",
      "year                  19615 non-null int64\n",
      "month                 19615 non-null int64\n",
      "day                   19615 non-null int64\n",
      "day_of_year           19615 non-null int64\n",
      "day_of_week           19615 non-null int64\n",
      "is_weekend            19615 non-null int32\n",
      "week                  19615 non-null int64\n",
      "days_since_release    19615 non-null int64\n",
      "engagement            19615 non-null float64\n",
      "dtypes: datetime64[ns](1), float64(3), int32(1), int64(12), object(2)\n",
      "memory usage: 2.8+ MB\n"
     ]
    }
   ],
   "source": [
    "df_test = pd.read_csv('data/Data_Test.csv')\n",
    "\n",
    "df_test['Name'] = pd.factorize(df_test.Name)[0]\n",
    "df_test['Genre'] = pd.factorize(df_test.Genre)[0]\n",
    "\n",
    "#df_test = df_test[['Name', 'Genre', 'Timestamp', 'Comments', 'Likes', 'Popularity', 'Followers', 'Views']]\n",
    "\n",
    "def cleaner(x):\n",
    "    if ',' in x:\n",
    "        x = x.replace(',', '')\n",
    "    elif 'M' in x:\n",
    "        x = float(x.replace('M', ''))\n",
    "        x = x*10**6\n",
    "    elif 'K' in x:\n",
    "        x = float(x.replace('K', ''))\n",
    "        x = x*10**3\n",
    "    return float(x)\n",
    "\n",
    "df_test.Likes = df_test.Likes.apply(lambda x: cleaner(x))\n",
    "df_test.Popularity = df_test.Popularity.apply(lambda x: cleaner(x))\n",
    "\n",
    "#df_test.columns = df_test.columns.str.lower()\n",
    "df_test.columns = map(str.lower, df_test.columns)\n",
    "\n",
    "df_test['timestamp'] = pd.to_datetime(df_test.timestamp)\n",
    "\n",
    "from datetime import datetime\n",
    "df_test['year'] = df_test.timestamp.dt.year\n",
    "df_test['month'] = df_test.timestamp.dt.month\n",
    "df_test['day'] = df_test.timestamp.dt.day\n",
    "df_test['day_of_year'] = df_test.timestamp.dt.dayofyear\n",
    "df_test['day_of_week'] = df_test.timestamp.dt.dayofweek\n",
    "df_test['is_weekend'] = (df_test.timestamp.dt.weekday>=5).astype(int)\n",
    "df_test['week'] = df_test.timestamp.dt.week\n",
    "df_test['days_since_release'] = (datetime.now() - df_test.timestamp).dt.days\n",
    "\n",
    "df_test['engagement'] = df_test.likes + df_test.comments\n",
    "\n",
    "df_test.info()"
   ]
  },
  {
   "cell_type": "code",
   "execution_count": 96,
   "metadata": {},
   "outputs": [],
   "source": [
    "df_pred = df_test[['name', 'genre', 'comments', 'likes', 'popularity', 'followers', 'year', 'month', 'day', \n",
    "                     'day_of_year', 'day_of_week', 'is_weekend', 'week', 'days_since_release', 'engagement']]\n",
    "y_pred = rf.predict(df_pred)"
   ]
  },
  {
   "cell_type": "code",
   "execution_count": 97,
   "metadata": {},
   "outputs": [
    {
     "data": {
      "text/html": [
       "<div>\n",
       "<style scoped>\n",
       "    .dataframe tbody tr th:only-of-type {\n",
       "        vertical-align: middle;\n",
       "    }\n",
       "\n",
       "    .dataframe tbody tr th {\n",
       "        vertical-align: top;\n",
       "    }\n",
       "\n",
       "    .dataframe thead th {\n",
       "        text-align: right;\n",
       "    }\n",
       "</style>\n",
       "<table border=\"1\" class=\"dataframe\">\n",
       "  <thead>\n",
       "    <tr style=\"text-align: right;\">\n",
       "      <th></th>\n",
       "      <th>Unique_ID</th>\n",
       "      <th>Views</th>\n",
       "    </tr>\n",
       "  </thead>\n",
       "  <tbody>\n",
       "    <tr>\n",
       "      <th>0</th>\n",
       "      <td>562546</td>\n",
       "      <td>313680.41</td>\n",
       "    </tr>\n",
       "    <tr>\n",
       "      <th>1</th>\n",
       "      <td>907584</td>\n",
       "      <td>32364.17</td>\n",
       "    </tr>\n",
       "    <tr>\n",
       "      <th>2</th>\n",
       "      <td>213013</td>\n",
       "      <td>17491.52</td>\n",
       "    </tr>\n",
       "    <tr>\n",
       "      <th>3</th>\n",
       "      <td>340312</td>\n",
       "      <td>56262.31</td>\n",
       "    </tr>\n",
       "    <tr>\n",
       "      <th>4</th>\n",
       "      <td>41854</td>\n",
       "      <td>22789.60</td>\n",
       "    </tr>\n",
       "  </tbody>\n",
       "</table>\n",
       "</div>"
      ],
      "text/plain": [
       "   Unique_ID      Views\n",
       "0     562546  313680.41\n",
       "1     907584   32364.17\n",
       "2     213013   17491.52\n",
       "3     340312   56262.31\n",
       "4      41854   22789.60"
      ]
     },
     "execution_count": 97,
     "metadata": {},
     "output_type": "execute_result"
    }
   ],
   "source": [
    "sub = pd.DataFrame({'Unique_ID':df_test['unique_id'], 'Views':y_pred})\n",
    "sub.head()"
   ]
  },
  {
   "cell_type": "code",
   "execution_count": 100,
   "metadata": {},
   "outputs": [],
   "source": [
    "sub.to_excel('Sample_Submission.xlsx')"
   ]
  }
 ],
 "metadata": {
  "kernelspec": {
   "display_name": "Python 3",
   "language": "python",
   "name": "python3"
  },
  "language_info": {
   "codemirror_mode": {
    "name": "ipython",
    "version": 3
   },
   "file_extension": ".py",
   "mimetype": "text/x-python",
   "name": "python",
   "nbconvert_exporter": "python",
   "pygments_lexer": "ipython3",
   "version": "3.7.3"
  }
 },
 "nbformat": 4,
 "nbformat_minor": 2
}
