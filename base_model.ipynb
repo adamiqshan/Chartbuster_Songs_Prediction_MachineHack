{
 "cells": [
  {
   "cell_type": "code",
   "execution_count": 1,
   "metadata": {
    "scrolled": true
   },
   "outputs": [],
   "source": [
    "import pandas as pd\n",
    "import numpy as np\n",
    "import matplotlib.pyplot as plt\n",
    "\n",
    "from sklearn.linear_model import LinearRegression\n",
    "from sklearn.model_selection import train_test_split\n",
    "from sklearn.ensemble import RandomForestRegressor\n",
    "from sklearn.metrics import mean_squared_error"
   ]
  },
  {
   "cell_type": "code",
   "execution_count": 2,
   "metadata": {
    "scrolled": true
   },
   "outputs": [
    {
     "name": "stdout",
     "output_type": "stream",
     "text": [
      "<class 'pandas.core.frame.DataFrame'>\n",
      "RangeIndex: 78458 entries, 0 to 78457\n",
      "Data columns (total 11 columns):\n",
      "Unique_ID     78458 non-null int64\n",
      "Name          78458 non-null object\n",
      "Genre         78458 non-null object\n",
      "Country       78458 non-null object\n",
      "Song_Name     78457 non-null object\n",
      "Timestamp     78458 non-null object\n",
      "Views         78458 non-null int64\n",
      "Comments      78458 non-null int64\n",
      "Likes         78458 non-null object\n",
      "Popularity    78458 non-null object\n",
      "Followers     78458 non-null int64\n",
      "dtypes: int64(4), object(7)\n",
      "memory usage: 6.6+ MB\n"
     ]
    }
   ],
   "source": [
    "df = pd.read_csv('data/Data_Train.csv')\n",
    "df.info()"
   ]
  },
  {
   "cell_type": "code",
   "execution_count": 3,
   "metadata": {},
   "outputs": [],
   "source": [
    "df['Name'] = pd.factorize(df.Name)[0]\n",
    "df['Genre'] = pd.factorize(df.Genre)[0]"
   ]
  },
  {
   "cell_type": "code",
   "execution_count": 4,
   "metadata": {},
   "outputs": [],
   "source": [
    "df = df[['Name', 'Genre', 'Timestamp', 'Comments', 'Likes', 'Popularity', 'Followers', 'Views']]"
   ]
  },
  {
   "cell_type": "code",
   "execution_count": 5,
   "metadata": {},
   "outputs": [],
   "source": [
    "def cleaner(x):\n",
    "    if ',' in x:\n",
    "        x = x.replace(',', '')\n",
    "    elif 'M' in x:\n",
    "        x = float(x.replace('M', ''))\n",
    "        x = x*10**6\n",
    "    elif 'K' in x:\n",
    "        x = float(x.replace('K', ''))\n",
    "        x = x*10**3\n",
    "    return float(x)"
   ]
  },
  {
   "cell_type": "code",
   "execution_count": 6,
   "metadata": {},
   "outputs": [],
   "source": [
    "df.Likes = df.Likes.apply(lambda x: cleaner(x))\n",
    "df.Popularity = df.Popularity.apply(lambda x: cleaner(x))"
   ]
  },
  {
   "cell_type": "code",
   "execution_count": 7,
   "metadata": {},
   "outputs": [],
   "source": [
    "#df.columns = df.columns.str.lower()\n",
    "df.columns = map(str.lower, df.columns)"
   ]
  },
  {
   "cell_type": "code",
   "execution_count": 8,
   "metadata": {},
   "outputs": [],
   "source": [
    "df['timestamp'] = pd.to_datetime(df.timestamp)"
   ]
  },
  {
   "cell_type": "code",
   "execution_count": 9,
   "metadata": {},
   "outputs": [],
   "source": [
    "from datetime import datetime\n",
    "df['year'] = df.timestamp.dt.year\n",
    "df['month'] = df.timestamp.dt.month\n",
    "df['day'] = df.timestamp.dt.day\n",
    "df['day_of_year'] = df.timestamp.dt.dayofyear\n",
    "df['day_of_week'] = df.timestamp.dt.dayofweek\n",
    "df['is_weekend'] = (df.timestamp.dt.weekday>=5).astype(int)\n",
    "df['week'] = df.timestamp.dt.week\n",
    "df['days_since_release'] = (datetime.now() - df.timestamp).dt.days\n",
    "df['engagement'] = df.likes + df.comments\n",
    "df['engagement_ratio'] = df['engagement'] / df['followers']"
   ]
  },
  {
   "cell_type": "code",
   "execution_count": 10,
   "metadata": {},
   "outputs": [
    {
     "data": {
      "text/plain": [
       "Index(['name', 'genre', 'timestamp', 'comments', 'likes', 'popularity',\n",
       "       'followers', 'views', 'year', 'month', 'day', 'day_of_year',\n",
       "       'day_of_week', 'is_weekend', 'week', 'days_since_release', 'engagement',\n",
       "       'engagement_ratio'],\n",
       "      dtype='object')"
      ]
     },
     "execution_count": 10,
     "metadata": {},
     "output_type": "execute_result"
    }
   ],
   "source": [
    "df.columns"
   ]
  },
  {
   "cell_type": "code",
   "execution_count": 30,
   "metadata": {
    "scrolled": true
   },
   "outputs": [],
   "source": [
    "X = df[['name', 'genre', 'comments', 'likes', 'popularity',\n",
    "       'followers', 'year', 'month', 'day', 'day_of_year',\n",
    "       'day_of_week', 'is_weekend', 'week', 'days_since_release',\n",
    "       'engagement']]\n",
    "y = df['views']\n",
    "X_train, X_val, y_train, y_val = train_test_split(X, y, test_size=0.3)"
   ]
  },
  {
   "cell_type": "code",
   "execution_count": 12,
   "metadata": {},
   "outputs": [
    {
     "data": {
      "text/html": [
       "<div>\n",
       "<style scoped>\n",
       "    .dataframe tbody tr th:only-of-type {\n",
       "        vertical-align: middle;\n",
       "    }\n",
       "\n",
       "    .dataframe tbody tr th {\n",
       "        vertical-align: top;\n",
       "    }\n",
       "\n",
       "    .dataframe thead th {\n",
       "        text-align: right;\n",
       "    }\n",
       "</style>\n",
       "<table border=\"1\" class=\"dataframe\">\n",
       "  <thead>\n",
       "    <tr style=\"text-align: right;\">\n",
       "      <th></th>\n",
       "      <th>name</th>\n",
       "      <th>genre</th>\n",
       "      <th>comments</th>\n",
       "      <th>likes</th>\n",
       "      <th>popularity</th>\n",
       "      <th>followers</th>\n",
       "      <th>year</th>\n",
       "      <th>month</th>\n",
       "      <th>day</th>\n",
       "      <th>day_of_year</th>\n",
       "      <th>day_of_week</th>\n",
       "      <th>is_weekend</th>\n",
       "      <th>week</th>\n",
       "      <th>days_since_release</th>\n",
       "      <th>engagement</th>\n",
       "      <th>engagement_ratio</th>\n",
       "    </tr>\n",
       "  </thead>\n",
       "  <tbody>\n",
       "    <tr>\n",
       "      <th>71785</th>\n",
       "      <td>89</td>\n",
       "      <td>5</td>\n",
       "      <td>4</td>\n",
       "      <td>59.0</td>\n",
       "      <td>12.0</td>\n",
       "      <td>165268</td>\n",
       "      <td>2014</td>\n",
       "      <td>3</td>\n",
       "      <td>14</td>\n",
       "      <td>73</td>\n",
       "      <td>4</td>\n",
       "      <td>0</td>\n",
       "      <td>11</td>\n",
       "      <td>2162</td>\n",
       "      <td>63.0</td>\n",
       "      <td>0.000381</td>\n",
       "    </tr>\n",
       "    <tr>\n",
       "      <th>42292</th>\n",
       "      <td>54</td>\n",
       "      <td>4</td>\n",
       "      <td>96</td>\n",
       "      <td>143.0</td>\n",
       "      <td>91.0</td>\n",
       "      <td>6084</td>\n",
       "      <td>2018</td>\n",
       "      <td>7</td>\n",
       "      <td>26</td>\n",
       "      <td>207</td>\n",
       "      <td>3</td>\n",
       "      <td>0</td>\n",
       "      <td>30</td>\n",
       "      <td>568</td>\n",
       "      <td>239.0</td>\n",
       "      <td>0.039283</td>\n",
       "    </tr>\n",
       "    <tr>\n",
       "      <th>55016</th>\n",
       "      <td>412</td>\n",
       "      <td>3</td>\n",
       "      <td>0</td>\n",
       "      <td>6.0</td>\n",
       "      <td>2.0</td>\n",
       "      <td>342</td>\n",
       "      <td>2019</td>\n",
       "      <td>1</td>\n",
       "      <td>23</td>\n",
       "      <td>23</td>\n",
       "      <td>2</td>\n",
       "      <td>0</td>\n",
       "      <td>4</td>\n",
       "      <td>386</td>\n",
       "      <td>6.0</td>\n",
       "      <td>0.017544</td>\n",
       "    </tr>\n",
       "    <tr>\n",
       "      <th>50270</th>\n",
       "      <td>75</td>\n",
       "      <td>0</td>\n",
       "      <td>2</td>\n",
       "      <td>85.0</td>\n",
       "      <td>29.0</td>\n",
       "      <td>29446</td>\n",
       "      <td>2014</td>\n",
       "      <td>9</td>\n",
       "      <td>10</td>\n",
       "      <td>253</td>\n",
       "      <td>2</td>\n",
       "      <td>0</td>\n",
       "      <td>37</td>\n",
       "      <td>1982</td>\n",
       "      <td>87.0</td>\n",
       "      <td>0.002955</td>\n",
       "    </tr>\n",
       "    <tr>\n",
       "      <th>54582</th>\n",
       "      <td>324</td>\n",
       "      <td>3</td>\n",
       "      <td>435</td>\n",
       "      <td>2839.0</td>\n",
       "      <td>684.0</td>\n",
       "      <td>106971</td>\n",
       "      <td>2018</td>\n",
       "      <td>2</td>\n",
       "      <td>5</td>\n",
       "      <td>36</td>\n",
       "      <td>0</td>\n",
       "      <td>0</td>\n",
       "      <td>6</td>\n",
       "      <td>738</td>\n",
       "      <td>3274.0</td>\n",
       "      <td>0.030606</td>\n",
       "    </tr>\n",
       "  </tbody>\n",
       "</table>\n",
       "</div>"
      ],
      "text/plain": [
       "       name  genre  comments   likes  popularity  followers  year  month  day  \\\n",
       "71785    89      5         4    59.0        12.0     165268  2014      3   14   \n",
       "42292    54      4        96   143.0        91.0       6084  2018      7   26   \n",
       "55016   412      3         0     6.0         2.0        342  2019      1   23   \n",
       "50270    75      0         2    85.0        29.0      29446  2014      9   10   \n",
       "54582   324      3       435  2839.0       684.0     106971  2018      2    5   \n",
       "\n",
       "       day_of_year  day_of_week  is_weekend  week  days_since_release  \\\n",
       "71785           73            4           0    11                2162   \n",
       "42292          207            3           0    30                 568   \n",
       "55016           23            2           0     4                 386   \n",
       "50270          253            2           0    37                1982   \n",
       "54582           36            0           0     6                 738   \n",
       "\n",
       "       engagement  engagement_ratio  \n",
       "71785        63.0          0.000381  \n",
       "42292       239.0          0.039283  \n",
       "55016         6.0          0.017544  \n",
       "50270        87.0          0.002955  \n",
       "54582      3274.0          0.030606  "
      ]
     },
     "execution_count": 12,
     "metadata": {},
     "output_type": "execute_result"
    }
   ],
   "source": [
    "X_train.head()"
   ]
  },
  {
   "cell_type": "code",
   "execution_count": 13,
   "metadata": {},
   "outputs": [
    {
     "name": "stdout",
     "output_type": "stream",
     "text": [
      "721911.6698457112\n",
      "521156459059.4232\n"
     ]
    }
   ],
   "source": [
    "clf = LinearRegression(normalize=True)\n",
    "clf.fit(X_train, y_train)\n",
    "\n",
    "y_pred = clf.predict(X_val)\n",
    "\n",
    "print(np.sqrt(mean_squared_error(y_val, y_pred)))\n",
    "print(mean_squared_error(y_val, y_pred))\n",
    "\n",
    "#without engagement ratio\n",
    "#789180.988643476\n",
    "#622806632836.2943\n",
    "\n",
    "#with engagement ratio\n",
    "#601527.5878659646\n",
    "#361835438963.84576"
   ]
  },
  {
   "cell_type": "code",
   "execution_count": 14,
   "metadata": {},
   "outputs": [
    {
     "name": "stdout",
     "output_type": "stream",
     "text": [
      "711707.5566895821\n",
      "506527646249.05475\n"
     ]
    }
   ],
   "source": [
    "rf = RandomForestRegressor()\n",
    "\n",
    "rf.fit(X_train, y_train)\n",
    "\n",
    "y_pred = rf.predict(X_val)\n",
    "\n",
    "print(np.sqrt(mean_squared_error(y_val, y_pred)))\n",
    "print(mean_squared_error(y_val, y_pred))\n",
    "\n",
    "#without engagement ratio\n",
    "#767096.827670948\n",
    "#588437543022.8322\n",
    "\n",
    "#leaderboardscore : 827580.07742\n",
    "\n",
    "#with engagement ratio\n",
    "#496282.4861702416\n",
    "#246296306079.31604"
   ]
  },
  {
   "cell_type": "code",
   "execution_count": 15,
   "metadata": {},
   "outputs": [
    {
     "data": {
      "image/png": "[encoded data removed]",
      "text/plain": [
       "<Figure size 1080x504 with 1 Axes>"
      ]
     },
     "metadata": {
      "needs_background": "light"
     },
     "output_type": "display_data"
    }
   ],
   "source": [
    "import seaborn as sns\n",
    "feature_importance = pd.DataFrame(sorted(zip(X_train.columns, rf.feature_importances_), reverse=True), columns=['features', 'importance'])\n",
    "plt.figure(figsize=(15,7))\n",
    "sns.barplot(y='features', x='importance', data=feature_importance.sort_values(by='importance', ascending=False))\n",
    "plt.tight_layout()"
   ]
  },
  {
   "cell_type": "code",
   "execution_count": 20,
   "metadata": {
    "scrolled": false
   },
   "outputs": [
    {
     "name": "stderr",
     "output_type": "stream",
     "text": [
      "C:\\ProgramData\\Anaconda3\\lib\\site-packages\\xgboost\\core.py:587: FutureWarning: Series.base is deprecated and will be removed in a future version\n",
      "  if getattr(data, 'base', None) is not None and \\\n"
     ]
    },
    {
     "name": "stdout",
     "output_type": "stream",
     "text": [
      "[05:44:43] WARNING: C:/Jenkins/workspace/xgboost-win64_release_0.90/src/objective/regression_obj.cu:152: reg:linear is now deprecated in favor of reg:squarederror.\n",
      "764246.8194616248\n",
      "584073201057.2094\n"
     ]
    }
   ],
   "source": [
    "import xgboost as xgb\n",
    "\n",
    "xgb = xgb.XGBRegressor()\n",
    "\n",
    "xgb.fit(X_train, y_train)\n",
    "y_pred = xgb.predict(X_val)\n",
    "\n",
    "print(np.sqrt(mean_squared_error(y_val, y_pred)))\n",
    "print(mean_squared_error(y_val, y_pred))\n",
    "\n",
    "#leaderboard score : 751217.21271"
   ]
  },
  {
   "cell_type": "code",
   "execution_count": null,
   "metadata": {},
   "outputs": [],
   "source": [
    "feature_importance = pd.DataFrame(sorted(zip(xgb1.feature_importances_, X_train.columns), reverse=True), \n",
    "                                  columns=['importance', 'features'])\n",
    "\n",
    "sns.barplot(x='importance', y='features', data=feature_importance)"
   ]
  },
  {
   "cell_type": "code",
   "execution_count": 28,
   "metadata": {},
   "outputs": [
    {
     "data": {
      "text/plain": [
       "<matplotlib.axes._subplots.AxesSubplot at 0x24c4712e588>"
      ]
     },
     "execution_count": 28,
     "metadata": {},
     "output_type": "execute_result"
    },
    {
     "data": {
      "image/png": "[encoded data removed]",
      "text/plain": [
       "<Figure size 432x288 with 1 Axes>"
      ]
     },
     "metadata": {
      "needs_background": "light"
     },
     "output_type": "display_data"
    }
   ],
   "source": [
    "feature_importance = pd.DataFrame(sorted(zip(xgb.feature_importances_, X_train.columns), reverse=True), \n",
    "                                  columns=['importance', 'features'])\n",
    "\n",
    "sns.barplot(x='importance', y='features', data=feature_importance)"
   ]
  },
  {
   "cell_type": "code",
   "execution_count": 37,
   "metadata": {},
   "outputs": [
    {
     "name": "stdout",
     "output_type": "stream",
     "text": [
      "<class 'pandas.core.frame.DataFrame'>\n",
      "RangeIndex: 19615 entries, 0 to 19614\n",
      "Data columns (total 20 columns):\n",
      "unique_id             19615 non-null int64\n",
      "name                  19615 non-null int64\n",
      "genre                 19615 non-null int64\n",
      "country               19615 non-null object\n",
      "song_name             19615 non-null object\n",
      "timestamp             19615 non-null datetime64[ns]\n",
      "comments              19615 non-null int64\n",
      "likes                 19615 non-null float64\n",
      "popularity            19615 non-null float64\n",
      "followers             19615 non-null int64\n",
      "year                  19615 non-null int64\n",
      "month                 19615 non-null int64\n",
      "day                   19615 non-null int64\n",
      "day_of_year           19615 non-null int64\n",
      "day_of_week           19615 non-null int64\n",
      "is_weekend            19615 non-null int32\n",
      "week                  19615 non-null int64\n",
      "days_since_release    19615 non-null int64\n",
      "engagement            19615 non-null float64\n",
      "engagement_ratio      19615 non-null float64\n",
      "dtypes: datetime64[ns](1), float64(4), int32(1), int64(12), object(2)\n",
      "memory usage: 2.9+ MB\n"
     ]
    }
   ],
   "source": [
    "df_test = pd.read_csv('data/Data_Test.csv')\n",
    "\n",
    "df_test['Name'] = pd.factorize(df_test.Name)[0]\n",
    "df_test['Genre'] = pd.factorize(df_test.Genre)[0]\n",
    "\n",
    "#df_test = df_test[['Name', 'Genre', 'Timestamp', 'Comments', 'Likes', 'Popularity', 'Followers', 'Views']]\n",
    "\n",
    "def cleaner(x):\n",
    "    if ',' in x:\n",
    "        x = x.replace(',', '')\n",
    "    elif 'M' in x:\n",
    "        x = float(x.replace('M', ''))\n",
    "        x = x*10**6\n",
    "    elif 'K' in x:\n",
    "        x = float(x.replace('K', ''))\n",
    "        x = x*10**3\n",
    "    return float(x)\n",
    "\n",
    "df_test.Likes = df_test.Likes.apply(lambda x: cleaner(x))\n",
    "df_test.Popularity = df_test.Popularity.apply(lambda x: cleaner(x))\n",
    "\n",
    "#df_test.columns = df_test.columns.str.lower()\n",
    "df_test.columns = map(str.lower, df_test.columns)\n",
    "\n",
    "df_test['timestamp'] = pd.to_datetime(df_test.timestamp)\n",
    "\n",
    "from datetime import datetime\n",
    "df_test['year'] = df_test.timestamp.dt.year\n",
    "df_test['month'] = df_test.timestamp.dt.month\n",
    "df_test['day'] = df_test.timestamp.dt.day\n",
    "df_test['day_of_year'] = df_test.timestamp.dt.dayofyear\n",
    "df_test['day_of_week'] = df_test.timestamp.dt.dayofweek\n",
    "df_test['is_weekend'] = (df_test.timestamp.dt.weekday>=5).astype(int)\n",
    "df_test['week'] = df_test.timestamp.dt.week\n",
    "df_test['days_since_release'] = (datetime.now() - df_test.timestamp).dt.days\n",
    "df_test['engagement'] = df_test.likes + df_test.comments\n",
    "df_test['engagement_ratio'] = df['engagement'] / df['followers']\n",
    "\n",
    "df_test.info()"
   ]
  },
  {
   "cell_type": "code",
   "execution_count": 76,
   "metadata": {},
   "outputs": [],
   "source": [
    "df_pred = df_test[['name', 'genre', 'comments', 'likes', 'popularity', 'followers', 'year', 'month', 'day', \n",
    "                   'day_of_year', 'day_of_week', 'is_weekend', 'week', 'days_since_release', 'engagement']]\n",
    "y_pred = xgb1.predict(df_pred)"
   ]
  },
  {
   "cell_type": "code",
   "execution_count": 77,
   "metadata": {},
   "outputs": [
    {
     "data": {
      "text/html": [
       "<div>\n",
       "<style scoped>\n",
       "    .dataframe tbody tr th:only-of-type {\n",
       "        vertical-align: middle;\n",
       "    }\n",
       "\n",
       "    .dataframe tbody tr th {\n",
       "        vertical-align: top;\n",
       "    }\n",
       "\n",
       "    .dataframe thead th {\n",
       "        text-align: right;\n",
       "    }\n",
       "</style>\n",
       "<table border=\"1\" class=\"dataframe\">\n",
       "  <thead>\n",
       "    <tr style=\"text-align: right;\">\n",
       "      <th></th>\n",
       "      <th>Unique_ID</th>\n",
       "      <th>Views</th>\n",
       "    </tr>\n",
       "  </thead>\n",
       "  <tbody>\n",
       "    <tr>\n",
       "      <th>0</th>\n",
       "      <td>562546</td>\n",
       "      <td>312406.937500</td>\n",
       "    </tr>\n",
       "    <tr>\n",
       "      <th>1</th>\n",
       "      <td>907584</td>\n",
       "      <td>35879.851562</td>\n",
       "    </tr>\n",
       "    <tr>\n",
       "      <th>2</th>\n",
       "      <td>213013</td>\n",
       "      <td>18946.710938</td>\n",
       "    </tr>\n",
       "    <tr>\n",
       "      <th>3</th>\n",
       "      <td>340312</td>\n",
       "      <td>22689.210938</td>\n",
       "    </tr>\n",
       "    <tr>\n",
       "      <th>4</th>\n",
       "      <td>41854</td>\n",
       "      <td>11510.787109</td>\n",
       "    </tr>\n",
       "  </tbody>\n",
       "</table>\n",
       "</div>"
      ],
      "text/plain": [
       "   Unique_ID          Views\n",
       "0     562546  312406.937500\n",
       "1     907584   35879.851562\n",
       "2     213013   18946.710938\n",
       "3     340312   22689.210938\n",
       "4      41854   11510.787109"
      ]
     },
     "execution_count": 77,
     "metadata": {},
     "output_type": "execute_result"
    }
   ],
   "source": [
    "sub = pd.DataFrame({'Unique_ID':df_test['unique_id'], 'Views':y_pred})\n",
    "sub.head()"
   ]
  },
  {
   "cell_type": "code",
   "execution_count": 78,
   "metadata": {},
   "outputs": [],
   "source": [
    "sub.to_excel('XGB1.xlsx')"
   ]
  },
  {
   "cell_type": "code",
   "execution_count": null,
   "metadata": {},
   "outputs": [],
   "source": [
    "#stack_gen = StackingCVRegressor(regressors=(ridge, lasso, elasticnet, xgboost, lightgbm),\n",
    "                                meta_regressor=xgboost,\n",
    "                                use_features_in_secondary=True)"
   ]
  }
 ],
 "metadata": {
  "kernelspec": {
   "display_name": "Python 3",
   "language": "python",
   "name": "python3"
  }
 },
 "nbformat": 4,
 "nbformat_minor": 2
}
